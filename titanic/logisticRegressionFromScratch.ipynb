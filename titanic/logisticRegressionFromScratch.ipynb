{
 "cells": [
  {
   "cell_type": "code",
   "execution_count": 2,
   "metadata": {},
   "outputs": [],
   "source": [
    "import numpy as np\n",
    "import pandas as pd\n",
    "import matplotlib.pyplot as plt"
   ]
  },
  {
   "cell_type": "code",
   "execution_count": 3,
   "metadata": {},
   "outputs": [],
   "source": [
    "def sigmoid(z):\n",
    "    return 1 / (1 + np.exp(-z))\n",
    "\n",
    "def relu(z):\n",
    "    return np.max(0, z)\n",
    "\n",
    "def getThetaFromGD(Xf, yf, n_iter=400, alpha=1, reg=0):\n",
    "    Xf_t = Xf.transpose()\n",
    "    m, n = Xf.shape\n",
    "    theta = np.random.rand(n)\n",
    "    for i in range(n_iter):\n",
    "        h = sigmoid(Xf @ theta)\n",
    "        d_theta = Xf_t @ (h - yf)\n",
    "        d_theta[1:] += reg * theta[1:]\n",
    "        d_theta /= m_train\n",
    "        theta -= d_theta * alpha\n",
    "    return theta\n",
    "\n",
    "def getCostFonShanon(Xf, yf, reg=0):\n",
    "    h_train = sigmoid(Xf_train @ theta)\n",
    "    J = - yf @ np.log(h_train) - (1 - yf) @ (np.log(1 - h_train))"
   ]
  },
  {
   "cell_type": "code",
   "execution_count": 4,
   "metadata": {},
   "outputs": [
    {
     "name": "stdout",
     "output_type": "stream",
     "text": [
      "(891, 12)\n",
      "PassengerId 0\n",
      "Survived 0\n",
      "Pclass 0\n",
      "Name 0\n",
      "Sex 0\n",
      "Age 177\n",
      "SibSp 0\n",
      "Parch 0\n",
      "Ticket 0\n",
      "Fare 0\n",
      "Cabin 687\n",
      "Embarked 2\n",
      "(712, 11)\n"
     ]
    }
   ],
   "source": [
    "# data polishing\n",
    "df = pd.read_csv('data/train.csv')\n",
    "print(df.shape)\n",
    "for c in df.columns:\n",
    "    print(c, (df.loc[:,c].isna()).sum())\n",
    "df = df.drop(columns=[\"Cabin\"])\n",
    "df = df.dropna()\n",
    "#features= ['Pclass','Sex','Age','SibSp','Parch','Fare','Embarked']\n",
    "features= ['Pclass','Sex','Age','Embarked']\n",
    "print(df.shape)\n",
    "# creating input and output dataframes\n",
    "yf = df.loc[:,'Survived']\n",
    "Xf = df.loc[:,features]"
   ]
  },
  {
   "cell_type": "code",
   "execution_count": 5,
   "metadata": {},
   "outputs": [],
   "source": [
    "# mapping strings to numbers and normalizing\n",
    "Xf.loc[:,'Sex'] = Xf.loc[:,'Sex'].map({'male': 0, 'female': 1})\n",
    "Xf.loc[:,'Embarked'] = Xf.loc[:,'Embarked'].map({'C': 0, 'S': 1, 'Q': 2})\n",
    "Xf_mean, Xf_std = Xf.mean(), Xf.std()\n",
    "Xf = (Xf - Xf_mean) / Xf_std\n",
    "Xf.insert(0, \"cst\", 1.)\n",
    "# sample sizes\n",
    "m, n = Xf.shape\n",
    "m_test = m - (m // 4 * 3)\n",
    "yf_test = yf.loc[m // 4 * 3:]\n",
    "Xf_test = Xf.loc[m // 4 * 3:,:]"
   ]
  },
  {
   "cell_type": "code",
   "execution_count": null,
   "metadata": {},
   "outputs": [],
   "source": [
    "## gradient descent\n",
    "n_iter = 400\n",
    "alpha = 1\n",
    "reg = 0.0\n",
    "m_train_arr = np.arange(100, m // 4 * 3, 30)\n",
    "J_train_arr = []\n",
    "J_test_arr = []\n",
    "for i_m_train in range(len(m_train_arr)):\n",
    "    m_train = m_train_arr[i_m_train]\n",
    "    print(m_train)\n",
    "    yf_train = yf.loc[:m_train]\n",
    "    Xf_train = Xf.loc[:m_train,:]\n",
    "    theta = getThetaFromGD(Xf_train, yf_train, n_iter, alpha, reg)\n",
    "    # cost function on the training examples\n",
    "    h_train = sigmoid(Xf_train @ theta)\n",
    "    J_train = - yf_train @ np.log(h_train) - (1 - yf_train) @ (np.log(1 - h_train))\n",
    "    J_train += reg * (theta[1:] ** 2).sum() / 2\n",
    "    J_train /= m_train\n",
    "    J_train_arr.append(J_train)\n",
    "    # cost function on the test examples\n",
    "    h_test = sigmoid(Xf_test @ theta)\n",
    "    J_test = - (yf_test @ np.log(h_test) + (1 - yf_test) @ (np.log(1 - h_test))) / m_test\n",
    "    J_test_arr.append(J_test)\n",
    "    "
   ]
  },
  {
   "cell_type": "code",
   "execution_count": null,
   "metadata": {},
   "outputs": [],
   "source": [
    "%matplotlib qt5\n",
    "fig, fax = plt.subplots()\n",
    "fax.plot(m_train_arr, J_train_arr, label=\"train\")\n",
    "fax.plot(m_train_arr, J_test_arr, label=\"test\")\n",
    "plt.legend()\n",
    "plt.show()"
   ]
  },
  {
   "cell_type": "code",
   "execution_count": null,
   "metadata": {},
   "outputs": [],
   "source": []
  }
 ],
 "metadata": {
  "kernelspec": {
   "display_name": "Python (norm)",
   "language": "python",
   "name": "norm"
  },
  "language_info": {
   "codemirror_mode": {
    "name": "ipython",
    "version": 3
   },
   "file_extension": ".py",
   "mimetype": "text/x-python",
   "name": "python",
   "nbconvert_exporter": "python",
   "pygments_lexer": "ipython3",
   "version": "3.7.1"
  }
 },
 "nbformat": 4,
 "nbformat_minor": 2
}
