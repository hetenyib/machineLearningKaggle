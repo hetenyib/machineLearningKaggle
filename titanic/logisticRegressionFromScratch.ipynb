{
 "cells": [
  {
   "cell_type": "code",
   "execution_count": 407,
   "metadata": {},
   "outputs": [],
   "source": [
    "import numpy as np\n",
    "import pandas as pd\n",
    "import matplotlib.pyplot as plt\n",
    "import seaborn as sns\n",
    "%matplotlib inline\n",
    "\n",
    "def sigmoid(z):\n",
    "    return 1 / (1 + np.exp(-z))\n",
    "\n",
    "def getThetaGD(X, y, n_iter=400, alpha=1, reg=0):\n",
    "    m, n = X.shape\n",
    "    theta = np.random.rand(n)\n",
    "    Xt = X.transpose()\n",
    "    J_arr = []\n",
    "    for i in range(n_iter):\n",
    "        h = activation(X @ theta)\n",
    "        d_theta = Xt @ (h - y)\n",
    "        d_theta[1:] += reg * theta[1:]\n",
    "        d_theta /= m\n",
    "        theta -= d_theta * alpha\n",
    "        J_arr.append(getCostShanon(X, y, theta, reg))\n",
    "    return theta\n",
    "\n",
    "def getCostShanon(X, y, theta, reg=0):\n",
    "    m = X.shape[0]\n",
    "    h = activation(X @ theta)\n",
    "    J = -y @ np.log(h) - (1 - y) @ np.log(1 - h)\n",
    "    if reg != 0:\n",
    "        J += reg * (theta[1:] ** 2).sum() / 2\n",
    "    J = J / m\n",
    "    return J"
   ]
  },
  {
   "cell_type": "code",
   "execution_count": 408,
   "metadata": {},
   "outputs": [
    {
     "name": "stdout",
     "output_type": "stream",
     "text": [
      "PassengerId      int64\n",
      "Survived         int64\n",
      "Pclass           int64\n",
      "Name            object\n",
      "Sex             object\n",
      "Age            float64\n",
      "SibSp            int64\n",
      "Parch            int64\n",
      "Ticket          object\n",
      "Fare           float64\n",
      "Cabin           object\n",
      "Embarked        object\n",
      "dtype: object\n",
      "PassengerId      0\n",
      "Survived         0\n",
      "Pclass           0\n",
      "Name             0\n",
      "Sex              0\n",
      "Age            177\n",
      "SibSp            0\n",
      "Parch            0\n",
      "Ticket           0\n",
      "Fare             0\n",
      "Cabin          687\n",
      "Embarked         2\n",
      "dtype: int64\n"
     ]
    },
    {
     "data": {
      "text/plain": [
       "<matplotlib.legend.Legend at 0x7efc82646278>"
      ]
     },
     "execution_count": 408,
     "metadata": {},
     "output_type": "execute_result"
    },
    {
     "data": {
      "image/png": "[encoded data removed]",
      "text/plain": [
       "<Figure size 432x288 with 1 Axes>"
      ]
     },
     "metadata": {
      "needs_background": "light"
     },
     "output_type": "display_data"
    }
   ],
   "source": [
    "## data analysis\n",
    "df = pd.read_csv(\"data/train.csv\")\n",
    "print(df.dtypes)\n",
    "print(df.isna().sum()) # important: sum attribute of dataframe by default has axis=0 (for numpy axis=None)\n",
    "\n",
    "## plotting\n",
    "#sns.countplot(x=\"Sex\", hue=\"Survived\", data=df)\n",
    "fig, fax = plt.subplots()\n",
    "z = df[df.loc[:,\"Survived\"] == 0][\"Age\"]\n",
    "sns.distplot(z[z.notna()], ax=fax, color=\"blue\", label='0')\n",
    "z = df[df.loc[:,\"Survived\"] == 1][\"Age\"]\n",
    "sns.distplot(z[z.notna()], ax=fax, color=\"red\", label='1')\n",
    "plt.legend()"
   ]
  },
  {
   "cell_type": "code",
   "execution_count": 409,
   "metadata": {},
   "outputs": [
    {
     "data": {
      "image/png": "[encoded data removed]",
      "text/plain": [
       "<Figure size 432x288 with 1 Axes>"
      ]
     },
     "metadata": {
      "needs_background": "light"
     },
     "output_type": "display_data"
    }
   ],
   "source": [
    "## mapping strings to numbers and normalizing\n",
    "df.loc[:,\"Sex\"] = df.loc[:,\"Sex\"].map({\"male\":0, \"female\":1, 0:0, 1:1})\n",
    "df.loc[:,\"Embarked\"] = df.loc[:,\"Embarked\"].map({'C':0, 'S':1, 'Q':2, 0:0, 1:1, 2:2})\n",
    "\n",
    "## handling names\n",
    "titleDict = {\"Mr.\":0, \"Mrs.\":1, \"Miss.\":2, \"Master.\":3, \"Dr.\":4}\n",
    "for i_row, row in df.iterrows():\n",
    "    if isinstance(row[\"Name\"], int):\n",
    "        break\n",
    "    title = row[\"Name\"].split()[1]\n",
    "    if title in titleDict.keys():\n",
    "        df.loc[i_row,\"Name\"] = titleDict[title]\n",
    "    else:\n",
    "        df.loc[i_row,\"Name\"] = len(titleDict.keys())\n",
    "sns.countplot(x=\"Name\", data=df)\n",
    "        \n",
    "## handling nans\n",
    "df1 = df.drop(columns=[\"Cabin\"])\n",
    "df1 = df1.interpolate()\n",
    "#df1 = df1.dropna()\n",
    "#print(df1.shape)\n",
    "\n",
    "## creating input and output dataframes\n",
    "yf = df1[\"Survived\"]\n",
    "features= [\"Pclass\", \"Name\", \"Sex\", \"Age\", \"SibSp\", \"Parch\", \"Fare\", \"Embarked\"]\n",
    "#features= [\"Pclass\", \"Sex\", \"Age\"]\n",
    "Xf = df1[features]\n",
    "\n",
    "## normalizing\n",
    "Xf_mean, Xf_std = Xf.mean(), Xf.std()\n",
    "Xf = (Xf - Xf_mean) / Xf_std\n",
    "Xf.insert(0, \"cst\", 1.)"
   ]
  },
  {
   "cell_type": "code",
   "execution_count": 410,
   "metadata": {},
   "outputs": [
    {
     "name": "stdout",
     "output_type": "stream",
     "text": [
      "100\n",
      "115\n",
      "130\n",
      "145\n",
      "160\n",
      "175\n",
      "190\n",
      "205\n",
      "220\n",
      "235\n",
      "250\n",
      "265\n",
      "280\n",
      "295\n",
      "310\n",
      "325\n",
      "340\n",
      "355\n",
      "370\n",
      "385\n",
      "400\n",
      "415\n",
      "430\n",
      "445\n",
      "460\n",
      "475\n",
      "490\n",
      "505\n",
      "520\n",
      "535\n",
      "550\n",
      "565\n",
      "580\n",
      "595\n",
      "610\n",
      "625\n",
      "640\n",
      "655\n",
      "670\n",
      "685\n",
      "700\n"
     ]
    }
   ],
   "source": [
    "## parameters\n",
    "activation = sigmoid\n",
    "n_iter = 1000\n",
    "alpha = 0.10\n",
    "reg = 1\n",
    "\n",
    "## sample sizes\n",
    "m, n = Xf.shape\n",
    "i_m_test_lim = int(m * 0.8)\n",
    "m_test = m - i_m_test_lim \n",
    "ynp_test = yf.loc[i_m_test_lim:].to_numpy()\n",
    "Xnp_test = Xf.loc[i_m_test_lim:,:].to_numpy()\n",
    "\n",
    "## gradient descent\n",
    "m_train_arr = np.arange(100, i_m_test_lim, 15)\n",
    "J_train_arr = []\n",
    "J_test_arr = []\n",
    "for i_m_train in range(len(m_train_arr)):\n",
    "    m_train = m_train_arr[i_m_train]\n",
    "    print(m_train)\n",
    "    ynp_train = yf.loc[:m_train].to_numpy()\n",
    "    Xnp_train = Xf.loc[:m_train,:].to_numpy()\n",
    "    theta = getThetaGD(Xnp_train, ynp_train, n_iter, alpha, reg)\n",
    "    J_train_arr.append(getCostShanon(Xnp_train, ynp_train, theta, reg))\n",
    "    J_test_arr.append(getCostShanon(Xnp_test, ynp_test, theta, reg=0))"
   ]
  },
  {
   "cell_type": "code",
   "execution_count": null,
   "metadata": {},
   "outputs": [],
   "source": [
    "fig, fax = plt.subplots()\n",
    "fax.plot(m_train_arr, J_train_arr, label=\"train\")\n",
    "fax.plot(m_train_arr, J_test_arr, label=\"test\")\n",
    "plt.legend()\n",
    "plt.show()"
   ]
  },
  {
   "cell_type": "code",
   "execution_count": null,
   "metadata": {},
   "outputs": [],
   "source": []
  }
 ],
 "metadata": {
  "kernelspec": {
   "display_name": "Python (norm)",
   "language": "python",
   "name": "norm"
  },
  "language_info": {
   "codemirror_mode": {
    "name": "ipython",
    "version": 3
   },
   "file_extension": ".py",
   "mimetype": "text/x-python",
   "name": "python",
   "nbconvert_exporter": "python",
   "pygments_lexer": "ipython3",
   "version": "3.7.1"
  }
 },
 "nbformat": 4,
 "nbformat_minor": 2
}
